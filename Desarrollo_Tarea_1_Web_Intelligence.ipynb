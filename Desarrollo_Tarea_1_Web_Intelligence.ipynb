{
  "nbformat": 4,
  "nbformat_minor": 0,
  "metadata": {
    "colab": {
      "name": "Desarrollo Tarea 1 Web Intelligence.ipynb",
      "provenance": [],
      "collapsed_sections": [],
      "include_colab_link": true
    },
    "kernelspec": {
      "name": "python3",
      "display_name": "Python 3"
    }
  },
  "cells": [
    {
      "cell_type": "markdown",
      "metadata": {
        "id": "view-in-github",
        "colab_type": "text"
      },
      "source": [
        "<a href=\"https://colab.research.google.com/github/paulabarraza/Paula/blob/master/Desarrollo_Tarea_1_Web_Intelligence.ipynb\" target=\"_parent\"><img src=\"https://colab.research.google.com/assets/colab-badge.svg\" alt=\"Open In Colab\"/></a>"
      ]
    },
    {
      "cell_type": "markdown",
      "metadata": {
        "id": "y1fvD-t49d-7",
        "colab_type": "text"
      },
      "source": [
        "# Tarea 1 Web Intelligence: Web Content Mining\n",
        "\n",
        "El objetivo de esta tarea es que apliquen los conceptos vistos en las cátedras, en particular sobre el tópico de Web Content Mining y Machine Learning. Se espera que sigan los pasos del proceso KDD, es decir, selección de los datos, limpieza y preprocesamiento, transformación, data mining y evaluación, a la hora de resolver la problemática planteada.\n",
        "\n",
        "La tarea tendrá 4 apartados, que tendrán que ir desarrollando de manera secuencial (no pueden hacer el apartado 2 sin haber hecho el 1).\n",
        "\n",
        "Para trabajar libremente en su propio cuaderno de Colab, deben guardar una copia de este mismo cuaderno (Archivo --> Guardar una copia en Drive), y de esta manera tendrán la base de este documento y podrán ir editando sobre él.\n"
      ]
    },
    {
      "cell_type": "markdown",
      "metadata": {
        "id": "kBzW5epRCmYw",
        "colab_type": "text"
      },
      "source": [
        "## Sección 1: Web Scraper - Selección de datos\n",
        "\n",
        "La primera parte de la tarea consiste en programar un *Web Scraper* que pueda recorrer distintos sitios web recogiendo información de dichos sitios. Esta información debe ser de tipo texto, para que puedan aplicar las técnicas de Web Content Mining. \n",
        "\n",
        "Existen distintas librerías de Python que permiten crear un Scraper como *Scrapy*, *Selenium* o *Beautiful Soup*.\n",
        "\n",
        "En el siguiente enlace: [scraper](https://colab.research.google.com/drive/19N2NSOLHpjJtFlLxwT8Xd_XxS2sk69kj?usp=sharing), pueden encontrar un ejemplo de cómo se crea un Scraper utilizando la librería de Selenium. Dicho scraper recopila información de noticias del sitio web de CNN Chile. Las categorías de noticias que existen en CNN Chile son: 'País', 'Deportes', 'Mundo', 'Tendencias', 'Economía', 'Cultura' y 'Tecnologías'.\n",
        "\n",
        "El resultado del Scraper implementado es un archivo JSON, que se puede cargar como base de datos utilizando la librería *Pandas* de Python con el siguiente enlace: https://github.com/josecantog/WI_DATA/raw/master/cnn_news.json.\n",
        "\n",
        "Para efectos de la tarea, ustedes deben seleccionar otro sitio Web de noticias distinto al de CNN Chile para obtener los datos."
      ]
    },
    {
      "cell_type": "markdown",
      "metadata": {
        "id": "uGsz1-vb1UNu",
        "colab_type": "text"
      },
      "source": [
        "En esta primera parte del código se importan todas las librerías que se utilizarán para el resto de la tarea. En particular hay que tener cuidado con la primera celda, ya que esta requiere de un tratamiento especial. Lo primero que se debe hacer es correr esta celda que dice *!python -m spacy download es_core_news_md* y una vez que termine, se tiene que reiniciar el entorno de ejecución. Para esto último, van a las opciones que se encuentran en la esquina superior izquierda y seleccionan \"Entorno de ejecución\", y ahí seleccionan la opción \"Reiniciar entorno de ejecución\", y en la pestaña que se abre, ponen la opción \"sí\". Una vez finalizado lo anterior, puede proceder a correr todas las demás celdas del documento, desde la segunda (no se corre de nuevo la primera en donde aparece *!python -m spacy download es_core_news_md*)."
      ]
    },
    {
      "cell_type": "code",
      "metadata": {
        "id": "UdaKOMTYJOx7",
        "colab_type": "code",
        "colab": {
          "base_uri": "https://localhost:8080/",
          "height": 445
        },
        "outputId": "0f6573f2-a69c-48d1-df55-4799b95bf28d"
      },
      "source": [
        "!python -m spacy download es_core_news_md"
      ],
      "execution_count": 212,
      "outputs": [
        {
          "output_type": "stream",
          "text": [
            "Requirement already satisfied: es_core_news_md==2.2.5 from https://github.com/explosion/spacy-models/releases/download/es_core_news_md-2.2.5/es_core_news_md-2.2.5.tar.gz#egg=es_core_news_md==2.2.5 in /usr/local/lib/python3.6/dist-packages (2.2.5)\n",
            "Requirement already satisfied: spacy>=2.2.2 in /usr/local/lib/python3.6/dist-packages (from es_core_news_md==2.2.5) (2.2.4)\n",
            "Requirement already satisfied: wasabi<1.1.0,>=0.4.0 in /usr/local/lib/python3.6/dist-packages (from spacy>=2.2.2->es_core_news_md==2.2.5) (0.8.0)\n",
            "Requirement already satisfied: requests<3.0.0,>=2.13.0 in /usr/local/lib/python3.6/dist-packages (from spacy>=2.2.2->es_core_news_md==2.2.5) (2.23.0)\n",
            "Requirement already satisfied: setuptools in /usr/local/lib/python3.6/dist-packages (from spacy>=2.2.2->es_core_news_md==2.2.5) (50.3.0)\n",
            "Requirement already satisfied: blis<0.5.0,>=0.4.0 in /usr/local/lib/python3.6/dist-packages (from spacy>=2.2.2->es_core_news_md==2.2.5) (0.4.1)\n",
            "Requirement already satisfied: tqdm<5.0.0,>=4.38.0 in /usr/local/lib/python3.6/dist-packages (from spacy>=2.2.2->es_core_news_md==2.2.5) (4.41.1)\n",
            "Requirement already satisfied: preshed<3.1.0,>=3.0.2 in /usr/local/lib/python3.6/dist-packages (from spacy>=2.2.2->es_core_news_md==2.2.5) (3.0.2)\n",
            "Requirement already satisfied: numpy>=1.15.0 in /usr/local/lib/python3.6/dist-packages (from spacy>=2.2.2->es_core_news_md==2.2.5) (1.18.5)\n",
            "Requirement already satisfied: murmurhash<1.1.0,>=0.28.0 in /usr/local/lib/python3.6/dist-packages (from spacy>=2.2.2->es_core_news_md==2.2.5) (1.0.2)\n",
            "Requirement already satisfied: srsly<1.1.0,>=1.0.2 in /usr/local/lib/python3.6/dist-packages (from spacy>=2.2.2->es_core_news_md==2.2.5) (1.0.2)\n",
            "Requirement already satisfied: cymem<2.1.0,>=2.0.2 in /usr/local/lib/python3.6/dist-packages (from spacy>=2.2.2->es_core_news_md==2.2.5) (2.0.3)\n",
            "Requirement already satisfied: catalogue<1.1.0,>=0.0.7 in /usr/local/lib/python3.6/dist-packages (from spacy>=2.2.2->es_core_news_md==2.2.5) (1.0.0)\n",
            "Requirement already satisfied: plac<1.2.0,>=0.9.6 in /usr/local/lib/python3.6/dist-packages (from spacy>=2.2.2->es_core_news_md==2.2.5) (1.1.3)\n",
            "Requirement already satisfied: thinc==7.4.0 in /usr/local/lib/python3.6/dist-packages (from spacy>=2.2.2->es_core_news_md==2.2.5) (7.4.0)\n",
            "Requirement already satisfied: urllib3!=1.25.0,!=1.25.1,<1.26,>=1.21.1 in /usr/local/lib/python3.6/dist-packages (from requests<3.0.0,>=2.13.0->spacy>=2.2.2->es_core_news_md==2.2.5) (1.24.3)\n",
            "Requirement already satisfied: idna<3,>=2.5 in /usr/local/lib/python3.6/dist-packages (from requests<3.0.0,>=2.13.0->spacy>=2.2.2->es_core_news_md==2.2.5) (2.10)\n",
            "Requirement already satisfied: certifi>=2017.4.17 in /usr/local/lib/python3.6/dist-packages (from requests<3.0.0,>=2.13.0->spacy>=2.2.2->es_core_news_md==2.2.5) (2020.6.20)\n",
            "Requirement already satisfied: chardet<4,>=3.0.2 in /usr/local/lib/python3.6/dist-packages (from requests<3.0.0,>=2.13.0->spacy>=2.2.2->es_core_news_md==2.2.5) (3.0.4)\n",
            "Requirement already satisfied: importlib-metadata>=0.20; python_version < \"3.8\" in /usr/local/lib/python3.6/dist-packages (from catalogue<1.1.0,>=0.0.7->spacy>=2.2.2->es_core_news_md==2.2.5) (1.7.0)\n",
            "Requirement already satisfied: zipp>=0.5 in /usr/local/lib/python3.6/dist-packages (from importlib-metadata>=0.20; python_version < \"3.8\"->catalogue<1.1.0,>=0.0.7->spacy>=2.2.2->es_core_news_md==2.2.5) (3.1.0)\n",
            "\u001b[38;5;2m✔ Download and installation successful\u001b[0m\n",
            "You can now load the model via spacy.load('es_core_news_md')\n"
          ],
          "name": "stdout"
        }
      ]
    },
    {
      "cell_type": "code",
      "metadata": {
        "id": "TZzuSrrwYMsH",
        "colab_type": "code",
        "colab": {
          "base_uri": "https://localhost:8080/",
          "height": 425
        },
        "outputId": "f0779a6e-2b1f-4dd3-a313-ee3006905fca"
      },
      "source": [
        "!pip install selenium\n",
        "!apt-get update # to update ubuntu to correctly run apt install\n",
        "!apt install chromium-chromedriver\n",
        "!cp /usr/lib/chromium-browser/chromedriver /usr/bin\n",
        "import sys\n",
        "sys.path.insert(0,'/usr/lib/chromium-browser/chromedriver')"
      ],
      "execution_count": 213,
      "outputs": [
        {
          "output_type": "stream",
          "text": [
            "Requirement already satisfied: selenium in /usr/local/lib/python3.6/dist-packages (3.141.0)\n",
            "Requirement already satisfied: urllib3 in /usr/local/lib/python3.6/dist-packages (from selenium) (1.24.3)\n",
            "Get:1 http://security.ubuntu.com/ubuntu bionic-security InRelease [88.7 kB]\n",
            "Hit:2 https://cloud.r-project.org/bin/linux/ubuntu bionic-cran35/ InRelease\n",
            "Ign:3 https://developer.download.nvidia.com/compute/cuda/repos/ubuntu1804/x86_64  InRelease\n",
            "Ign:4 https://developer.download.nvidia.com/compute/machine-learning/repos/ubuntu1804/x86_64  InRelease\n",
            "Hit:5 https://developer.download.nvidia.com/compute/cuda/repos/ubuntu1804/x86_64  Release\n",
            "Hit:6 http://ppa.launchpad.net/graphics-drivers/ppa/ubuntu bionic InRelease\n",
            "Hit:7 https://developer.download.nvidia.com/compute/machine-learning/repos/ubuntu1804/x86_64  Release\n",
            "Hit:8 http://archive.ubuntu.com/ubuntu bionic InRelease\n",
            "Get:9 http://archive.ubuntu.com/ubuntu bionic-updates InRelease [88.7 kB]\n",
            "Get:10 http://ppa.launchpad.net/marutter/c2d4u3.5/ubuntu bionic InRelease [15.4 kB]\n",
            "Get:11 http://archive.ubuntu.com/ubuntu bionic-backports InRelease [74.6 kB]\n",
            "Get:14 http://ppa.launchpad.net/marutter/c2d4u3.5/ubuntu bionic/main Sources [1,876 kB]\n",
            "Get:15 http://ppa.launchpad.net/marutter/c2d4u3.5/ubuntu bionic/main amd64 Packages [906 kB]\n",
            "Fetched 3,050 kB in 4s (854 kB/s)\n",
            "Reading package lists... Done\n",
            "Reading package lists... Done\n",
            "Building dependency tree       \n",
            "Reading state information... Done\n",
            "chromium-chromedriver is already the newest version (85.0.4183.83-0ubuntu0.18.04.2).\n",
            "0 upgraded, 0 newly installed, 0 to remove and 53 not upgraded.\n",
            "cp: '/usr/lib/chromium-browser/chromedriver' and '/usr/bin/chromedriver' are the same file\n"
          ],
          "name": "stdout"
        }
      ]
    },
    {
      "cell_type": "code",
      "metadata": {
        "id": "aeMsL78086SP",
        "colab_type": "code",
        "colab": {}
      },
      "source": [
        "\n",
        "from selenium import webdriver\n",
        "from selenium.webdriver.chrome.options import Options\n",
        "from selenium.webdriver.common.keys import Keys\n",
        "from selenium.webdriver.support import expected_conditions as EC\n",
        "from selenium.webdriver.support.wait import WebDriverWait\n",
        "from selenium.common.exceptions import TimeoutException, ElementNotInteractableException, NoSuchElementException, StaleElementReferenceException\n",
        "from selenium.webdriver.common.by import By\n",
        "from selenium.webdriver.common.action_chains import ActionChains\n",
        "import pandas as pd\n",
        "import numpy as np\n",
        "import json\n",
        "import time\n",
        "import random\n",
        "import urllib\n",
        "import spacy\n",
        "import nltk\n",
        "from sklearn.ensemble import RandomForestClassifier\n",
        "from sklearn import svm\n",
        "from sklearn.neighbors import KNeighborsClassifier\n",
        "from sklearn.metrics import classification_report, confusion_matrix, accuracy_score\n",
        "import matplotlib.pyplot as plt\n",
        "import seaborn as sns"
      ],
      "execution_count": 214,
      "outputs": []
    },
    {
      "cell_type": "markdown",
      "metadata": {
        "id": "78SoDnKOI6ii",
        "colab_type": "text"
      },
      "source": [
        "### Creación del scraper"
      ]
    },
    {
      "cell_type": "code",
      "metadata": {
        "id": "xJP8HMg1IALO",
        "colab_type": "code",
        "colab": {}
      },
      "source": [
        "#Introduzca su código aquí\n",
        "urls = [\n",
        "    'https://www.elmostrador.cl/noticias/pais/page/'\n",
        "    #'https://www.elmostrador.cl/noticias/mundo/page/'\n",
        "    #'https://www.elmostrador.cl/noticias/opinion/columnas/page/'\n",
        "    #'https://www.elmostrador.cl/noticias/editorial/page/'\n",
        "    #'https://www.elmostrador.cl/noticias/sin-editar/page/'\n",
        "]\n",
        "def links(url, categoria):\n",
        "\n",
        "    print('Iniciando Scraper de la categoría:'+ categoria)\n",
        "    chrome_options = webdriver.ChromeOptions()\n",
        "    chrome_options.add_argument('--headless')\n",
        "    chrome_options.add_argument('--no-sandbox')\n",
        "    chrome_options.add_argument('--disable-dev-shm-usage')\n",
        "    driver = webdriver.Chrome('chromedriver',chrome_options=chrome_options)\n",
        "    x = 2\n",
        "    try:\n",
        "        driver.get(url+str(x)+'/')\n",
        "        data = []\n",
        "        while True:\n",
        "            elements = driver.find_elements_by_class_name('col-xs-7')\n",
        "            for element in elements:\n",
        "                link = element.find_elements_by_tag_name('a')[0]\n",
        "                link = link.get_attribute('href')\n",
        "                data.append(link)\n",
        "                #print(link)\n",
        "                if len(data)%100==0:\n",
        "                    print('Se han encontrado'+str(len(data))+' links')\n",
        "                if len(data) == 5:\n",
        "                    break\n",
        "            if len(data) == 5:\n",
        "                    break\n",
        "            x=x+1\n",
        "            driver.get(url+str(x)+'/')\n",
        "        driver.quit()\n",
        "        print(len(data))\n",
        "    except TimeoutException:\n",
        "        print(\"Se excedió el tiempo de busqueda de un link\")\n",
        "    return data\n",
        "\n",
        "def scraper(links, data):\n",
        "    chrome_options = webdriver.ChromeOptions()\n",
        "    chrome_options.add_argument('--headless')\n",
        "    chrome_options.add_argument('--no-sandbox')\n",
        "    chrome_options.add_argument('--disable-dev-shm-usage')\n",
        "    driver = webdriver.Chrome('chromedriver',chrome_options=chrome_options)\n",
        "    for link in links:\n",
        "    \n",
        "\n",
        "        try:\n",
        "            driver.get(link)\n",
        "            news = {}\n",
        "            try:\n",
        "                cuerpo = driver.find_element_by_class_name('cuerpo-noticia').find_elements_by_tag_name('p')\n",
        "                contenido = ''\n",
        "                try:\n",
        "                    for item in cuerpo:\n",
        "                        \n",
        "                          string = item.get_attribute('innerHTML')\n",
        "                          if len(item.find_elements_by_tag_name('a'))>0:\n",
        "                              for body_tag in item.find_elements_by_tag_name('a'):\n",
        "                                  string = string.replace(body_tag.get_attribute('outerHTML'),body_tag.get_attribute('innerHTML'))\n",
        "                          if len(item.find_elements_by_tag_name('strong'))>0:\n",
        "                              for body_tag in item.find_elements_by_tag_name('strong'):\n",
        "                                  string = string.replace(body_tag.get_attribute('outerHTML'),body_tag.get_attribute('innerHTML'))\n",
        "                          if len(item.find_elements_by_tag_name('span'))>0:\n",
        "                              for body_tag in item.find_elements_by_tag_name('span'):\n",
        "                                  string = string.replace(body_tag.get_attribute('outerHTML'),'')\n",
        "                          if len(item.find_elements_by_tag_name('script'))>0:\n",
        "                              for body_tag in item.find_elements_by_tag_name('script'):\n",
        "                                  string = string.replace(body_tag.get_attribute('outerHTML'),'')\n",
        "                          if len(item.find_elements_by_tag_name('img'))>0:\n",
        "                              for body_tag in item.find_elements_by_tag_name('img'):\n",
        "                                  string = string.replace(body_tag.get_attribute('outerHTML'),'')\n",
        "                          if len(item.find_elements_by_tag_name('iframe'))>0:\n",
        "                              for body_tag in item.find_elements_by_tag_name('iframe'):\n",
        "                                  string = string.replace(body_tag.get_attribute('outerHTML'),'')\n",
        "                          if len(item.find_elements_by_tag_name('div'))>0:\n",
        "                              for body_tag in item.find_elements_by_tag_name('div'):\n",
        "                                  string = string.replace(body_tag.get_attribute('outerHTML'),'')\n",
        "                          if '&nbsp;' in string:\n",
        "                              string = string.replace('&nbsp;','')\n",
        "                          contenido = contenido +' '+string\n",
        "                           \n",
        "                except (StaleElementReferenceException, NoSuchElementException) as e:\n",
        "                   print('Status:  Elemento no encontrado1  '+'   '+str(e))               \n",
        "\n",
        "                listaClaves=driver.find_elements_by_class_name('tags-noticias')\n",
        "                \n",
        "                tags = []\n",
        "                if len(listaClaves)>0:\n",
        "                    claves=listaClaves[0].find_elements_by_tag_name('a')\n",
        "                    for etiqueta in claves:\n",
        "                      tags.append(etiqueta.get_attribute('innerText'))\n",
        "                else:\n",
        "                      tags = []\n",
        "\n",
        "                #categoria = driver.find_element_by_class_name('heading-single').get_attribute('innerText')\n",
        "                categoria = driver.find_element_by_class_name('col-md-8').find_elements_by_tag_name('a')[0].get_attribute('innerText')\n",
        "              \n",
        "                titulo = driver.find_element_by_class_name('titulo-single').get_attribute('innerText')\n",
        "                #encabezado = driver.find_element_by_class_name('excerpt content-sm').get_attribute('innerHTML')\n",
        "\n",
        "\n",
        "                news['categoria'] = categoria\n",
        "                news['titulo'] = titulo\n",
        "               # news['encabezado'] = encabezado\n",
        "                news['contenido'] = contenido\n",
        "                news['tags'] = tags\n",
        "                data.append(news)\n",
        "                if len(data)%4 == 0:\n",
        "                    print('Se han Crawleado'+str(len(data))+' sitios distintos')\n",
        "            except StaleElementReferenceException:\n",
        "                pass\n",
        "        except TimeoutException:\n",
        "            pass\n",
        "            if len(data)%10==0:\n",
        "                secs = random.randint(30, 45)\n",
        "                print('Waiting '+str(secs)+'seconds...')\n",
        "                time.sleep(secs)\n",
        "    driver.quit()\n",
        "    #data = json.loads(data)\n",
        "    return data   \n",
        "\n"
      ],
      "execution_count": 221,
      "outputs": []
    },
    {
      "cell_type": "code",
      "metadata": {
        "id": "WJ5NkR6nvxIP",
        "colab_type": "code",
        "colab": {}
      },
      "source": [
        "a=links('https://www.elmostrador.cl/noticias/editorial/page/','editorial')\n",
        "scraper(a,[])\n"
      ],
      "execution_count": null,
      "outputs": []
    },
    {
      "cell_type": "code",
      "metadata": {
        "id": "5bW-pvY9kY6d",
        "colab_type": "code",
        "colab": {
          "base_uri": "https://localhost:8080/",
          "height": 52
        },
        "outputId": "9eb4e73e-152f-4d31-fd8e-bf6098aa4eaf"
      },
      "source": [
        "chrome_options = webdriver.ChromeOptions()\n",
        "chrome_options.add_argument('--headless')\n",
        "chrome_options.add_argument('--no-sandbox')\n",
        "chrome_options.add_argument('--disable-dev-shm-usage')\n",
        "driver = webdriver.Chrome('chromedriver',chrome_options=chrome_options)\n",
        "driver.get('https://www.elmostrador.cl/destacado/2020/09/23/la-encrucijada-mortal-del-consejo-para-la-transparencia/')\n"
      ],
      "execution_count": null,
      "outputs": [
        {
          "output_type": "stream",
          "text": [
            "/usr/local/lib/python3.6/dist-packages/ipykernel_launcher.py:5: DeprecationWarning: use options instead of chrome_options\n",
            "  \"\"\"\n"
          ],
          "name": "stderr"
        }
      ]
    },
    {
      "cell_type": "code",
      "metadata": {
        "id": "WS_pmVFj3o6X",
        "colab_type": "code",
        "colab": {}
      },
      "source": [
        "driver.find_element_by_class_name('titulo-single').get_attribute('innerText')"
      ],
      "execution_count": null,
      "outputs": []
    },
    {
      "cell_type": "code",
      "metadata": {
        "id": "Zhf_n2ut6w8B",
        "colab_type": "code",
        "colab": {}
      },
      "source": [
        "def collect(urls, data):\n",
        "    for url in urls:\n",
        "        categoria = urllib.parse.urlparse(url).path.split('/')[-3]\n",
        "        print(categoria)\n",
        "        link = links(url,categoria)\n",
        "        print(\"La cantidad de links a scrapear es:\" + str(len(link)))\n",
        "        data = scraper(link,data)\n",
        "        \n",
        "        secs = random.randint(1, 10)\n",
        "        print('Waiting '+str(secs)+'seconds...')\n",
        "        time.sleep(secs)\n",
        "    \n",
        "    #db = pd.DataFrame(data)\n",
        "    #db.to_json(r'cnn_news.json')\n",
        "    return data\n",
        "\n",
        " "
      ],
      "execution_count": 223,
      "outputs": []
    },
    {
      "cell_type": "code",
      "metadata": {
        "id": "ncC7zfmZIPh1",
        "colab_type": "code",
        "colab": {
          "base_uri": "https://localhost:8080/",
          "height": 176
        },
        "outputId": "4fd78ca3-2c92-4977-a55c-904d78a1a387"
      },
      "source": [
        "Datos= []\n",
        "database= collect(urls, Datos)\n",
        "db = pd.DataFrame(database)\n",
        "\n",
        "db.to_json(r'Datos_tarea1.json')"
      ],
      "execution_count": 225,
      "outputs": [
        {
          "output_type": "stream",
          "text": [
            "pais\n",
            "Iniciando Scraper de la categoría:pais\n"
          ],
          "name": "stdout"
        },
        {
          "output_type": "stream",
          "text": [
            "/usr/local/lib/python3.6/dist-packages/ipykernel_launcher.py:16: DeprecationWarning: use options instead of chrome_options\n",
            "  app.launch_new_instance()\n"
          ],
          "name": "stderr"
        },
        {
          "output_type": "stream",
          "text": [
            "5\n",
            "La cantidad de links a scrapear es:5\n"
          ],
          "name": "stdout"
        },
        {
          "output_type": "stream",
          "text": [
            "/usr/local/lib/python3.6/dist-packages/ipykernel_launcher.py:47: DeprecationWarning: use options instead of chrome_options\n"
          ],
          "name": "stderr"
        },
        {
          "output_type": "stream",
          "text": [
            "Se han Crawleado4 sitios distintos\n",
            "Waiting 2seconds...\n"
          ],
          "name": "stdout"
        }
      ]
    },
    {
      "cell_type": "code",
      "metadata": {
        "id": "1mNS4sWs6rvl",
        "colab_type": "code",
        "colab": {
          "base_uri": "https://localhost:8080/",
          "height": 197
        },
        "outputId": "2401e30c-495d-4d3e-cdde-6f7b5d90b2f4"
      },
      "source": [
        "db"
      ],
      "execution_count": 227,
      "outputs": [
        {
          "output_type": "execute_result",
          "data": {
            "text/html": [
              "<div>\n",
              "<style scoped>\n",
              "    .dataframe tbody tr th:only-of-type {\n",
              "        vertical-align: middle;\n",
              "    }\n",
              "\n",
              "    .dataframe tbody tr th {\n",
              "        vertical-align: top;\n",
              "    }\n",
              "\n",
              "    .dataframe thead th {\n",
              "        text-align: right;\n",
              "    }\n",
              "</style>\n",
              "<table border=\"1\" class=\"dataframe\">\n",
              "  <thead>\n",
              "    <tr style=\"text-align: right;\">\n",
              "      <th></th>\n",
              "      <th>categoria</th>\n",
              "      <th>titulo</th>\n",
              "      <th>contenido</th>\n",
              "      <th>tags</th>\n",
              "    </tr>\n",
              "  </thead>\n",
              "  <tbody>\n",
              "    <tr>\n",
              "      <th>0</th>\n",
              "      <td>País</td>\n",
              "      <td>Por un voto: Senado rechaza por falta de quóru...</td>\n",
              "      <td>No habrá ley. Este jueves, el Senado rechazó ...</td>\n",
              "      <td>[Gobierno, inhabilidades, proyecto, Senado]</td>\n",
              "    </tr>\n",
              "    <tr>\n",
              "      <th>1</th>\n",
              "      <td>País</td>\n",
              "      <td>PDI detiene a madre de Ámbar Cornejo por su pa...</td>\n",
              "      <td>Este jueves, la Brigada de Homicidios de la P...</td>\n",
              "      <td>[Ámbar Cornejo, Denisse Llanos, Madre]</td>\n",
              "    </tr>\n",
              "    <tr>\n",
              "      <th>2</th>\n",
              "      <td>País</td>\n",
              "      <td>\"No existe irregularidad\": Intendenta de Coqui...</td>\n",
              "      <td>La cuarta región está consternada debido al \"...</td>\n",
              "      <td>[Coquimbo, Fisco, Fraude, Intendencia]</td>\n",
              "    </tr>\n",
              "    <tr>\n",
              "      <th>3</th>\n",
              "      <td>País</td>\n",
              "      <td>Alcalde de Coyhaique culpa al Gobierno por ret...</td>\n",
              "      <td>Coyhaique vuelve a cuarentena a partir de est...</td>\n",
              "      <td>[Coyhaique, cuarentena]</td>\n",
              "    </tr>\n",
              "    <tr>\n",
              "      <th>4</th>\n",
              "      <td>País</td>\n",
              "      <td>Comisión revisora de acusación contra Mañalich...</td>\n",
              "      <td>La acusación constitucional contra el ex mini...</td>\n",
              "      <td>[Acusación Constitucional, comisión, ivan flor...</td>\n",
              "    </tr>\n",
              "  </tbody>\n",
              "</table>\n",
              "</div>"
            ],
            "text/plain": [
              "  categoria  ...                                               tags\n",
              "0      País  ...        [Gobierno, inhabilidades, proyecto, Senado]\n",
              "1      País  ...             [Ámbar Cornejo, Denisse Llanos, Madre]\n",
              "2      País  ...             [Coquimbo, Fisco, Fraude, Intendencia]\n",
              "3      País  ...                            [Coyhaique, cuarentena]\n",
              "4      País  ...  [Acusación Constitucional, comisión, ivan flor...\n",
              "\n",
              "[5 rows x 4 columns]"
            ]
          },
          "metadata": {
            "tags": []
          },
          "execution_count": 227
        }
      ]
    },
    {
      "cell_type": "markdown",
      "metadata": {
        "id": "I5z_94QDI5_E",
        "colab_type": "text"
      },
      "source": [
        "## Sección 2: Obtención del modelo Bag of Words\n",
        "\n",
        "El segundo apartado de la tarea consiste en preparar los datos recopilados de la sección 1, para poder trabajar con estos y entrenar los modelos que se utilizarán.\n",
        "\n",
        "Para esto, usted deberá obtener una representación *Bag of Words* de las distintas noticias recopiladas, siguiendo los pasos vistos en cátedras y auxiliares.\n",
        "\n",
        "El resultado de esta sección debe ser dos bloques de código que permitan obtener esta representación para cualquiera de sus noticias recolectadas. La única diferencia entre un bloque y otro será que en uno utilizará, cuando corresponda, el proceso de Lematización y en el otro utilizará el proceso de Stemming."
      ]
    },
    {
      "cell_type": "code",
      "metadata": {
        "id": "lY5PzvZwKeYi",
        "colab_type": "code",
        "colab": {}
      },
      "source": [
        "#Introduzca su código aquí (Lematización)"
      ],
      "execution_count": null,
      "outputs": []
    },
    {
      "cell_type": "code",
      "metadata": {
        "id": "r37xzipVVIX7",
        "colab_type": "code",
        "colab": {}
      },
      "source": [
        "#Introduzca su código aquí (Stemming)"
      ],
      "execution_count": null,
      "outputs": []
    },
    {
      "cell_type": "markdown",
      "metadata": {
        "id": "1mWH9h84R_PY",
        "colab_type": "text"
      },
      "source": [
        "## Sección 3: Obtención de TF-IDF\n",
        "\n",
        "Para disponer de un vector de atributos representativo de cada noticia, usted debe obtener la representación TF-IDF asociada a cada documento. Para esto, le ofrecemos dos opciones:\n",
        "\n",
        "1.- Utilizar la implementación de TF-IDF contenida en la librería *scikit-learn*, donde solo requerirá entregar las noticias en bruto: https://scikit-learn.org/stable/modules/generated/sklearn.feature_extraction.text.TfidfVectorizer.html\n",
        "\n",
        "2.- (BONUS +1 punto) Basándose en el código utilizado para obtener la representación Bag of Words, implementar usted mism@ el código necesario para obtener la representación TF-IDF básica, como se vio en cátedra.\n",
        "\n",
        "El resultado de esta sección debe ser un código que permita obtener esta representación para cualquiera de sus noticias recolectadas y que sirva como input para el código contenido en las celdas posteriores."
      ]
    },
    {
      "cell_type": "code",
      "metadata": {
        "id": "gm63_lusTiTi",
        "colab_type": "code",
        "colab": {}
      },
      "source": [
        "#Introduzca su código aquí"
      ],
      "execution_count": null,
      "outputs": []
    },
    {
      "cell_type": "code",
      "metadata": {
        "id": "-m7uObnTCywF",
        "colab_type": "code",
        "colab": {}
      },
      "source": [
        "#Creamos los sets para entrenar el modelo.\n",
        "X_train, X_test, y_train, y_test = train_test_split(features, \n",
        "                                                    labels,\n",
        "                                                    train_size=0.8,\n",
        "                                                    test_size=0.2, \n",
        "                                                    random_state=8)\n"
      ],
      "execution_count": null,
      "outputs": []
    },
    {
      "cell_type": "markdown",
      "metadata": {
        "id": "YBK7jnHuVAr1",
        "colab_type": "text"
      },
      "source": [
        "# Sección 4a: Entrenar el modelo - Data mining\n",
        "\n",
        "Una vez generado el vector de características, es decir, ya convertido en valores numéricos el contenido de las noticias, se procede a entrenar un modelo que permita clasificar una noticia de acuerdo a su contenido.\n",
        "\n",
        "En este ejemplo se decide utilizar el modelo Randfom Forest, Support Vector Machine y K-Nearest Neighbour, en su versión básica, sin modificar ningún parámetro."
      ]
    },
    {
      "cell_type": "code",
      "metadata": {
        "id": "ozuVi2ZzEdg2",
        "colab_type": "code",
        "colab": {}
      },
      "source": [
        "#Se dejan los parámetros por defecto.\n",
        "rfc = RandomForestClassifier(random_state=4)\n",
        "svc =svm.SVC(random_state=8)\n",
        "knnc =KNeighborsClassifier()"
      ],
      "execution_count": null,
      "outputs": []
    },
    {
      "cell_type": "code",
      "metadata": {
        "id": "YjFiX1CvdrwT",
        "colab_type": "code",
        "colab": {}
      },
      "source": [
        "rfc.fit(X_train, y_train)\n",
        "rfc_pred = rfc.predict(X_test)\n",
        "print('Accuracy de RFC')\n",
        "print(accuracy_score(y_test,rfc_pred))"
      ],
      "execution_count": null,
      "outputs": []
    },
    {
      "cell_type": "code",
      "metadata": {
        "id": "9mb-8yWkqx1b",
        "colab_type": "code",
        "colab": {}
      },
      "source": [
        "svc.fit(X_train, y_train)\n",
        "svm_pred = svc.predict(X_test)\n",
        "print('')\n",
        "print('Accuracy SVM')\n",
        "print(accuracy_score(y_test,svm_pred))"
      ],
      "execution_count": null,
      "outputs": []
    },
    {
      "cell_type": "code",
      "metadata": {
        "id": "GPLA-Tydq3I6",
        "colab_type": "code",
        "colab": {}
      },
      "source": [
        "knnc.fit(X_train, y_train)\n",
        "knnc_pred = knnc.predict(X_test)\n",
        "print('')\n",
        "print('Accuracy KNN')\n",
        "print(accuracy_score(y_test,knnc_pred))"
      ],
      "execution_count": null,
      "outputs": []
    },
    {
      "cell_type": "markdown",
      "metadata": {
        "id": "B_BU5IwRVzxg",
        "colab_type": "text"
      },
      "source": [
        "# Sección 4b: Evaluación del modelo\n",
        "\n",
        "Con el modelo ya entrenado, se procede a evaluar el desempeño de este. Para esto se utilizan métricas clásicas como 'Accuracy', y se graficará la matriz de confusión que permitirá visualizar que tan bien (o que tan mal) clasifica el modelo."
      ]
    },
    {
      "cell_type": "code",
      "metadata": {
        "id": "P-SwdkukrRsi",
        "colab_type": "code",
        "colab": {}
      },
      "source": [
        "# Classification report RFC\n",
        "print(\"Classification report RFC\")\n",
        "print(classification_report(y_test, predictionsRFC))"
      ],
      "execution_count": null,
      "outputs": []
    },
    {
      "cell_type": "code",
      "metadata": {
        "id": "d6mHBqxzsLci",
        "colab_type": "code",
        "colab": {}
      },
      "source": [
        "# Classification report SVM\n",
        "print(\"Classification report SVM\")\n",
        "print(classification_report(y_test, svm_pred))"
      ],
      "execution_count": null,
      "outputs": []
    },
    {
      "cell_type": "code",
      "metadata": {
        "id": "tD5Ih8x-senm",
        "colab_type": "code",
        "colab": {}
      },
      "source": [
        "# Classification report KNN\n",
        "print(\"Classification report KNN\")\n",
        "print(classification_report(y_test, knnc_pred))"
      ],
      "execution_count": null,
      "outputs": []
    },
    {
      "cell_type": "code",
      "metadata": {
        "id": "slwltPoUsuLX",
        "colab_type": "code",
        "colab": {
          "base_uri": "https://localhost:8080/",
          "height": 404
        },
        "outputId": "1e8aaa14-88f6-43ff-b91b-7d7df9d2620c"
      },
      "source": [
        "#Matriz de confusión\n",
        "aux_df = ds[['categoria', 'category_code']].drop_duplicates().sort_values('category_code')\n",
        "conf_matrix = confusion_matrix(y_test1, predictionsRFC1)\n",
        "plt.figure(figsize=(12.8,6))\n",
        "sns.heatmap(conf_matrix, \n",
        "            annot=True,\n",
        "            xticklabels=aux_df['categoria'].values, \n",
        "            yticklabels=aux_df['categoria'].values,\n",
        "            cmap=\"Blues\")\n",
        "plt.ylabel('Predicted')\n",
        "plt.xlabel('Actual')\n",
        "plt.title('Confusion matrix')\n",
        "plt.show()"
      ],
      "execution_count": null,
      "outputs": [
        {
          "output_type": "display_data",
          "data": {
            "image/png": "[encoded data removed]",
            "text/plain": [
              "<Figure size 921.6x432 with 2 Axes>"
            ]
          },
          "metadata": {
            "tags": [],
            "needs_background": "light"
          }
        }
      ]
    },
    {
      "cell_type": "markdown",
      "metadata": {
        "id": "IrOVE-zqvCSe",
        "colab_type": "text"
      },
      "source": [
        "# Entrega\n",
        "\n",
        "El entregable de la tarea es un informe y el código que ustedes ejecuten en Google Colab.\n",
        "\n",
        "El informe debe ser completamente autocontenido, por lo tanto debe tener un resumen ejecutivo, introducción, desarrollo del trabajo realizado, resultados obtenidos, discusión y conclusión. El informe puede tener como máximo 10 páginas, sin contar portada y anexos.\n",
        "\n",
        "Para compartir el desarrollo realizado en Google Colab, deben poner la opción \"compartir\", luego seleccionar la opción de \"obtener enlace\", elegir que cualquier usuario con el link pueda comentar, y finalmente copiar el enlace generado y pegarlo en los comentarios de la entrega de la tarea en u-cursos.\n",
        "\n",
        "La fecha de entrega es el domingo 4 de octubre a las 23:59."
      ]
    },
    {
      "cell_type": "markdown",
      "metadata": {
        "id": "4_DHbqWnZlNf",
        "colab_type": "text"
      },
      "source": [
        "## Recomendaciones\n",
        "\n",
        "Debido a que los recursos de Google Colab y nuestros computadores son limitados, no se recomienda trabajar con bases muy grandes (miles de noticias) ya que el procesamiento de estos datos tomaría mucho tiempo y el fin de la tarea es que aprendan la lógica detrás de Web Content Mining y que su código corra (que no estén horas esperando a que su código termine de correr). Claro está, que con una base mayor los resultados también serán mejores, sin embargo, no se busca un resultado óptimo.\n",
        "\n",
        "Lo mismo aplica para el largo de cada noticia, es decir, no se recomienda trabajar con noticias de muchos caracteres o muchas palabras, ya que estó hará que el procesamiento sea mayor, por lo que se les sugiere truncar las noticias, o configurar su Web Scraper para que incluya noticias que tengan un máximo de caracteres."
      ]
    }
  ]
}